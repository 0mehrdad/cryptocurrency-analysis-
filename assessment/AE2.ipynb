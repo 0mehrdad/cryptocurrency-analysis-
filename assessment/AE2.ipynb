{
 "cells": [
  {
   "cell_type": "markdown",
   "id": "d1f3f8f0-4015-4b7a-9d42-59b7fc88fe38",
   "metadata": {},
   "source": [
    "## Importing all the libraries "
   ]
  },
  {
   "cell_type": "code",
   "execution_count": 1,
   "id": "5a204801-0075-45a1-a932-a4877396e84e",
   "metadata": {},
   "outputs": [],
   "source": [
    "import yfinance as yf\n",
    "import time\n",
    "from datetime import datetime\n",
    "from sklearn.decomposition import PCA\n",
    "from sklearn.preprocessing import StandardScaler\n",
    "import pandas as pd\n",
    "import numpy as np\n",
    "import matplotlib.pyplot as plt\n",
    "from sklearn.cluster import KMeans\n",
    "from sklearn.cluster import DBSCAN\n",
    "from tabulate import tabulate\n",
    "import seaborn as sns"
   ]
  },
  {
   "cell_type": "markdown",
   "id": "f4b3e869-f287-4b14-b218-567a43510d8d",
   "metadata": {},
   "source": [
    "## Setting the cryptos that we want and the date "
   ]
  },
  {
   "cell_type": "code",
   "execution_count": 2,
   "id": "dd87153b-ed3b-4e42-b90a-c4d855b9e5f9",
   "metadata": {},
   "outputs": [
    {
     "name": "stdout",
     "output_type": "stream",
     "text": [
      "30\n"
     ]
    }
   ],
   "source": [
    "#setting tick\n",
    "tick = [\n",
    "     'SOL-USD', 'MATIC-USD',\n",
    "    'ARB-USD', 'OP-USD', 'EGLD-USD', 'KAS-USD', 'NEAR-USD',\n",
    "    'UNI-USD', 'AAVE-USD', 'SNX-USD',\n",
    "    'SAND-USD', 'AXS-USD', 'MANA-USD', 'ILV-USD',\n",
    "    'XMR-USD', 'ZEC-USD', 'DASH-USD', 'KMD-USD', 'SCRT-USD',\n",
    "    'OKB-USD', 'HT-USD', 'FTT-USD', 'CRO-USD',\n",
    "    'USDC-USD', 'DAI-USD',\"TRX-USD\",'INJ-USD','FET-USD','LTC-USD','FIL-USD'\n",
    "]\n",
    "\n",
    "print (len (tick))"
   ]
  },
  {
   "cell_type": "code",
   "execution_count": 3,
   "id": "6cdcbfdd-8080-4c51-820a-51346601efb4",
   "metadata": {},
   "outputs": [],
   "source": [
    "# setting date\n",
    "end_date = datetime.today().strftime('%Y-%m-%d')\n",
    "start_date = datetime.today().replace(year=datetime.today().year - 1).strftime('%Y-%m-%d')"
   ]
  },
  {
   "cell_type": "markdown",
   "id": "0d9084f1-d268-4c23-9967-326857bf732e",
   "metadata": {},
   "source": [
    "## Downloading the related data from yahoo finance and saving it to df \n",
    "#### I am only using 'Close' price "
   ]
  },
  {
   "cell_type": "code",
   "execution_count": 4,
   "id": "80c0bd74-94f7-4313-afb0-fa84d8da4616",
   "metadata": {},
   "outputs": [
    {
     "name": "stderr",
     "output_type": "stream",
     "text": [
      "[                       0%                       ]"
     ]
    },
    {
     "name": "stdout",
     "output_type": "stream",
     "text": [
      "YF.download() has changed argument auto_adjust default to True\n"
     ]
    },
    {
     "name": "stderr",
     "output_type": "stream",
     "text": [
      "[*********************100%***********************]  30 of 30 completed\n"
     ]
    }
   ],
   "source": [
    "df = yf.download(tick, start= start_date , end = end_date )['Close']"
   ]
  },
  {
   "cell_type": "markdown",
   "id": "574cd803-d2b7-438d-a1fd-3a56d4142b93",
   "metadata": {},
   "source": [
    "## Check if there are any missing values "
   ]
  },
  {
   "cell_type": "code",
   "execution_count": 6,
   "id": "3c058923-c100-42ee-bd9a-f90569e7a9d4",
   "metadata": {},
   "outputs": [
    {
     "data": {
      "text/plain": [
       "0"
      ]
     },
     "execution_count": 6,
     "metadata": {},
     "output_type": "execute_result"
    }
   ],
   "source": [
    "df.isnull().sum().sum()"
   ]
  },
  {
   "cell_type": "markdown",
   "id": "04dcac79-8bb2-4ed5-8991-e408e5ae96ad",
   "metadata": {},
   "source": [
    "## Apply K-mean and group the Crypto into 4 groups "
   ]
  },
  {
   "cell_type": "markdown",
   "id": "5a27720a-9815-47bb-926a-3a443a47638b",
   "metadata": {},
   "source": [
    "#### First I need to transpose the data frame to have cryptos as rows for grouping "
   ]
  },
  {
   "cell_type": "code",
   "execution_count": 13,
   "id": "35932311-e716-4e8a-a011-ddaa8e216bde",
   "metadata": {},
   "outputs": [
    {
     "data": {
      "text/html": [
       "<div>\n",
       "<style scoped>\n",
       "    .dataframe tbody tr th:only-of-type {\n",
       "        vertical-align: middle;\n",
       "    }\n",
       "\n",
       "    .dataframe tbody tr th {\n",
       "        vertical-align: top;\n",
       "    }\n",
       "\n",
       "    .dataframe thead th {\n",
       "        text-align: right;\n",
       "    }\n",
       "</style>\n",
       "<table border=\"1\" class=\"dataframe\">\n",
       "  <thead>\n",
       "    <tr style=\"text-align: right;\">\n",
       "      <th>Date</th>\n",
       "      <th>2024-03-06</th>\n",
       "      <th>2024-03-07</th>\n",
       "      <th>2024-03-08</th>\n",
       "      <th>2024-03-09</th>\n",
       "      <th>2024-03-10</th>\n",
       "      <th>2024-03-11</th>\n",
       "      <th>2024-03-12</th>\n",
       "      <th>2024-03-13</th>\n",
       "      <th>2024-03-14</th>\n",
       "      <th>2024-03-15</th>\n",
       "      <th>...</th>\n",
       "      <th>2025-02-24</th>\n",
       "      <th>2025-02-25</th>\n",
       "      <th>2025-02-26</th>\n",
       "      <th>2025-02-27</th>\n",
       "      <th>2025-02-28</th>\n",
       "      <th>2025-03-01</th>\n",
       "      <th>2025-03-02</th>\n",
       "      <th>2025-03-03</th>\n",
       "      <th>2025-03-04</th>\n",
       "      <th>2025-03-05</th>\n",
       "    </tr>\n",
       "    <tr>\n",
       "      <th>Ticker</th>\n",
       "      <th></th>\n",
       "      <th></th>\n",
       "      <th></th>\n",
       "      <th></th>\n",
       "      <th></th>\n",
       "      <th></th>\n",
       "      <th></th>\n",
       "      <th></th>\n",
       "      <th></th>\n",
       "      <th></th>\n",
       "      <th></th>\n",
       "      <th></th>\n",
       "      <th></th>\n",
       "      <th></th>\n",
       "      <th></th>\n",
       "      <th></th>\n",
       "      <th></th>\n",
       "      <th></th>\n",
       "      <th></th>\n",
       "      <th></th>\n",
       "      <th></th>\n",
       "    </tr>\n",
       "  </thead>\n",
       "  <tbody>\n",
       "    <tr>\n",
       "      <th>AAVE-USD</th>\n",
       "      <td>127.361351</td>\n",
       "      <td>133.882935</td>\n",
       "      <td>132.893845</td>\n",
       "      <td>130.948135</td>\n",
       "      <td>126.683327</td>\n",
       "      <td>136.714569</td>\n",
       "      <td>135.274506</td>\n",
       "      <td>142.761017</td>\n",
       "      <td>139.314896</td>\n",
       "      <td>128.908493</td>\n",
       "      <td>...</td>\n",
       "      <td>210.469635</td>\n",
       "      <td>204.976212</td>\n",
       "      <td>202.010269</td>\n",
       "      <td>203.535599</td>\n",
       "      <td>192.575897</td>\n",
       "      <td>194.858002</td>\n",
       "      <td>223.311798</td>\n",
       "      <td>180.808762</td>\n",
       "      <td>206.190659</td>\n",
       "      <td>221.660370</td>\n",
       "    </tr>\n",
       "    <tr>\n",
       "      <th>ARB-USD</th>\n",
       "      <td>0.000661</td>\n",
       "      <td>0.000670</td>\n",
       "      <td>0.000684</td>\n",
       "      <td>0.000685</td>\n",
       "      <td>0.000690</td>\n",
       "      <td>0.000721</td>\n",
       "      <td>0.000715</td>\n",
       "      <td>0.000731</td>\n",
       "      <td>0.001429</td>\n",
       "      <td>0.001389</td>\n",
       "      <td>...</td>\n",
       "      <td>0.000980</td>\n",
       "      <td>0.000980</td>\n",
       "      <td>0.000980</td>\n",
       "      <td>0.000980</td>\n",
       "      <td>0.000980</td>\n",
       "      <td>0.000980</td>\n",
       "      <td>0.000980</td>\n",
       "      <td>0.000980</td>\n",
       "      <td>0.000980</td>\n",
       "      <td>0.000980</td>\n",
       "    </tr>\n",
       "    <tr>\n",
       "      <th>AXS-USD</th>\n",
       "      <td>10.399086</td>\n",
       "      <td>10.724773</td>\n",
       "      <td>10.741311</td>\n",
       "      <td>12.341443</td>\n",
       "      <td>12.573408</td>\n",
       "      <td>12.522609</td>\n",
       "      <td>12.674732</td>\n",
       "      <td>12.680545</td>\n",
       "      <td>12.218711</td>\n",
       "      <td>11.321231</td>\n",
       "      <td>...</td>\n",
       "      <td>3.680784</td>\n",
       "      <td>3.670508</td>\n",
       "      <td>3.628551</td>\n",
       "      <td>3.657425</td>\n",
       "      <td>3.760459</td>\n",
       "      <td>3.720183</td>\n",
       "      <td>3.970027</td>\n",
       "      <td>3.449164</td>\n",
       "      <td>3.443064</td>\n",
       "      <td>3.590865</td>\n",
       "    </tr>\n",
       "    <tr>\n",
       "      <th>CRO-USD</th>\n",
       "      <td>0.158286</td>\n",
       "      <td>0.157942</td>\n",
       "      <td>0.162805</td>\n",
       "      <td>0.158540</td>\n",
       "      <td>0.165525</td>\n",
       "      <td>0.169407</td>\n",
       "      <td>0.161855</td>\n",
       "      <td>0.161301</td>\n",
       "      <td>0.152796</td>\n",
       "      <td>0.143224</td>\n",
       "      <td>...</td>\n",
       "      <td>0.077440</td>\n",
       "      <td>0.076459</td>\n",
       "      <td>0.073353</td>\n",
       "      <td>0.074185</td>\n",
       "      <td>0.073650</td>\n",
       "      <td>0.073717</td>\n",
       "      <td>0.082362</td>\n",
       "      <td>0.076783</td>\n",
       "      <td>0.073872</td>\n",
       "      <td>0.080122</td>\n",
       "    </tr>\n",
       "    <tr>\n",
       "      <th>DAI-USD</th>\n",
       "      <td>0.999670</td>\n",
       "      <td>1.000008</td>\n",
       "      <td>1.000077</td>\n",
       "      <td>1.000129</td>\n",
       "      <td>0.999761</td>\n",
       "      <td>0.999880</td>\n",
       "      <td>1.000023</td>\n",
       "      <td>0.999980</td>\n",
       "      <td>0.999822</td>\n",
       "      <td>1.000104</td>\n",
       "      <td>...</td>\n",
       "      <td>0.999965</td>\n",
       "      <td>0.999612</td>\n",
       "      <td>0.999743</td>\n",
       "      <td>0.999982</td>\n",
       "      <td>0.999842</td>\n",
       "      <td>0.999922</td>\n",
       "      <td>1.000107</td>\n",
       "      <td>1.000030</td>\n",
       "      <td>0.999896</td>\n",
       "      <td>1.000104</td>\n",
       "    </tr>\n",
       "  </tbody>\n",
       "</table>\n",
       "<p>5 rows × 365 columns</p>\n",
       "</div>"
      ],
      "text/plain": [
       "Date      2024-03-06  2024-03-07  2024-03-08  2024-03-09  2024-03-10  \\\n",
       "Ticker                                                                 \n",
       "AAVE-USD  127.361351  133.882935  132.893845  130.948135  126.683327   \n",
       "ARB-USD     0.000661    0.000670    0.000684    0.000685    0.000690   \n",
       "AXS-USD    10.399086   10.724773   10.741311   12.341443   12.573408   \n",
       "CRO-USD     0.158286    0.157942    0.162805    0.158540    0.165525   \n",
       "DAI-USD     0.999670    1.000008    1.000077    1.000129    0.999761   \n",
       "\n",
       "Date      2024-03-11  2024-03-12  2024-03-13  2024-03-14  2024-03-15  ...  \\\n",
       "Ticker                                                                ...   \n",
       "AAVE-USD  136.714569  135.274506  142.761017  139.314896  128.908493  ...   \n",
       "ARB-USD     0.000721    0.000715    0.000731    0.001429    0.001389  ...   \n",
       "AXS-USD    12.522609   12.674732   12.680545   12.218711   11.321231  ...   \n",
       "CRO-USD     0.169407    0.161855    0.161301    0.152796    0.143224  ...   \n",
       "DAI-USD     0.999880    1.000023    0.999980    0.999822    1.000104  ...   \n",
       "\n",
       "Date      2025-02-24  2025-02-25  2025-02-26  2025-02-27  2025-02-28  \\\n",
       "Ticker                                                                 \n",
       "AAVE-USD  210.469635  204.976212  202.010269  203.535599  192.575897   \n",
       "ARB-USD     0.000980    0.000980    0.000980    0.000980    0.000980   \n",
       "AXS-USD     3.680784    3.670508    3.628551    3.657425    3.760459   \n",
       "CRO-USD     0.077440    0.076459    0.073353    0.074185    0.073650   \n",
       "DAI-USD     0.999965    0.999612    0.999743    0.999982    0.999842   \n",
       "\n",
       "Date      2025-03-01  2025-03-02  2025-03-03  2025-03-04  2025-03-05  \n",
       "Ticker                                                                \n",
       "AAVE-USD  194.858002  223.311798  180.808762  206.190659  221.660370  \n",
       "ARB-USD     0.000980    0.000980    0.000980    0.000980    0.000980  \n",
       "AXS-USD     3.720183    3.970027    3.449164    3.443064    3.590865  \n",
       "CRO-USD     0.073717    0.082362    0.076783    0.073872    0.080122  \n",
       "DAI-USD     0.999922    1.000107    1.000030    0.999896    1.000104  \n",
       "\n",
       "[5 rows x 365 columns]"
      ]
     },
     "execution_count": 13,
     "metadata": {},
     "output_type": "execute_result"
    }
   ],
   "source": [
    "df = df.T\n",
    "df.head()"
   ]
  },
  {
   "cell_type": "markdown",
   "id": "6607d135-2067-4987-a5a7-ff6716e181b8",
   "metadata": {},
   "source": [
    "#### Now I need to standardize the data so I can apply PCA and reduce the dimensionality of data "
   ]
  },
  {
   "cell_type": "code",
   "execution_count": 15,
   "id": "7f1d814d-e1ea-42df-ad23-7d35a35ef046",
   "metadata": {},
   "outputs": [
    {
     "data": {
      "text/plain": [
       "array([[ 2.18385422,  2.1908005 ,  2.15979864, ...,  2.72695774,\n",
       "         3.00628255,  3.14401579],\n",
       "       [-0.6545867 , -0.65251732, -0.65385429, ..., -0.48817911,\n",
       "        -0.476418  , -0.47487997],\n",
       "       [-0.42284082, -0.42476471, -0.42645059, ..., -0.42686326,\n",
       "        -0.41827858, -0.41627014],\n",
       "       ...,\n",
       "       [-0.63231923, -0.6313003 , -0.63269866, ..., -0.47041685,\n",
       "        -0.45954627, -0.45856964],\n",
       "       [ 2.55309509,  2.41164003,  2.46620923, ...,  3.39778512,\n",
       "         3.3098781 ,  3.23561851],\n",
       "       [ 0.08102757,  0.07228067,  0.08071321, ...,  0.157558  ,\n",
       "         0.11570902,  0.11940097]])"
      ]
     },
     "execution_count": 15,
     "metadata": {},
     "output_type": "execute_result"
    }
   ],
   "source": [
    "scaler = StandardScaler()\n",
    "df_scaled = scaler.fit_transform(df)\n",
    "df_scaled"
   ]
  },
  {
   "cell_type": "markdown",
   "id": "8e47bb5c-a108-4ff1-9779-771fc55a28ee",
   "metadata": {},
   "source": [
    "#### Now apply PCA"
   ]
  },
  {
   "cell_type": "code",
   "execution_count": 18,
   "id": "451f476c-ed83-470b-8667-3573746e8ed8",
   "metadata": {},
   "outputs": [
    {
     "data": {
      "image/png": "[encoded data removed]",
      "text/plain": [
       "<Figure size 640x480 with 1 Axes>"
      ]
     },
     "metadata": {},
     "output_type": "display_data"
    }
   ],
   "source": [
    "pca = PCA(n_components=10)\n",
    "df_pca = pca.fit_transform(df_scaled)\n",
    "\n",
    "plt.plot(range(1, len(pca.explained_variance_ratio_)+1),\n",
    "         pca.explained_variance_ratio_.cumsum(), marker='o')\n",
    "plt.xlabel('Number of Components')\n",
    "plt.ylabel('Cumulative Explained Variance')\n",
    "plt.title('PCA Explained Variance')\n",
    "plt.show()"
   ]
  },
  {
   "cell_type": "markdown",
   "id": "f3d3aadc-051f-43a3-9afb-8bd183b2c325",
   "metadata": {},
   "source": [
    "We can see from the plot that with 2 components we can get very good Cumulative Explained Variance and as we want to display the data using scatter plot in the next step we use only two components "
   ]
  },
  {
   "cell_type": "code",
   "execution_count": 23,
   "id": "eca95dac-7697-41fb-9b10-96ecb4f5ab4e",
   "metadata": {},
   "outputs": [
    {
     "data": {
      "text/html": [
       "<div>\n",
       "<style scoped>\n",
       "    .dataframe tbody tr th:only-of-type {\n",
       "        vertical-align: middle;\n",
       "    }\n",
       "\n",
       "    .dataframe tbody tr th {\n",
       "        vertical-align: top;\n",
       "    }\n",
       "\n",
       "    .dataframe thead th {\n",
       "        text-align: right;\n",
       "    }\n",
       "</style>\n",
       "<table border=\"1\" class=\"dataframe\">\n",
       "  <thead>\n",
       "    <tr style=\"text-align: right;\">\n",
       "      <th></th>\n",
       "      <th>0</th>\n",
       "      <th>1</th>\n",
       "    </tr>\n",
       "    <tr>\n",
       "      <th>Ticker</th>\n",
       "      <th></th>\n",
       "      <th></th>\n",
       "    </tr>\n",
       "  </thead>\n",
       "  <tbody>\n",
       "    <tr>\n",
       "      <th>AAVE-USD</th>\n",
       "      <td>46.345311</td>\n",
       "      <td>14.435361</td>\n",
       "    </tr>\n",
       "    <tr>\n",
       "      <th>ARB-USD</th>\n",
       "      <td>-10.462432</td>\n",
       "      <td>0.811608</td>\n",
       "    </tr>\n",
       "    <tr>\n",
       "      <th>AXS-USD</th>\n",
       "      <td>-8.035780</td>\n",
       "      <td>0.039209</td>\n",
       "    </tr>\n",
       "    <tr>\n",
       "      <th>CRO-USD</th>\n",
       "      <td>-10.420077</td>\n",
       "      <td>0.804136</td>\n",
       "    </tr>\n",
       "    <tr>\n",
       "      <th>DAI-USD</th>\n",
       "      <td>-10.079831</td>\n",
       "      <td>0.752034</td>\n",
       "    </tr>\n",
       "  </tbody>\n",
       "</table>\n",
       "</div>"
      ],
      "text/plain": [
       "                  0          1\n",
       "Ticker                        \n",
       "AAVE-USD  46.345311  14.435361\n",
       "ARB-USD  -10.462432   0.811608\n",
       "AXS-USD   -8.035780   0.039209\n",
       "CRO-USD  -10.420077   0.804136\n",
       "DAI-USD  -10.079831   0.752034"
      ]
     },
     "execution_count": 23,
     "metadata": {},
     "output_type": "execute_result"
    }
   ],
   "source": [
    "pca = PCA(n_components=2)\n",
    "df_pca = pca.fit_transform(df_scaled)\n",
    "df_pca = pd.DataFrame(df_pca, index=df.index)\n",
    "df_pca.head()"
   ]
  },
  {
   "cell_type": "markdown",
   "id": "2ae34e8e-3aef-4cd6-a53b-77a2f8048513",
   "metadata": {},
   "source": [
    "#### Display the data "
   ]
  },
  {
   "cell_type": "code",
   "execution_count": 24,
   "id": "8c1e604d-45f7-4ffe-b3c2-ab29c47cb272",
   "metadata": {},
   "outputs": [
    {
     "data": {
      "image/png": "[encoded data removed]",
      "text/plain": [
       "<Figure size 640x480 with 1 Axes>"
      ]
     },
     "metadata": {},
     "output_type": "display_data"
    }
   ],
   "source": [
    "plt.scatter(df_pca[0],df_pca[1])\n",
    "plt.show()"
   ]
  },
  {
   "cell_type": "markdown",
   "id": "3e6038dc-4e0d-43e6-bb52-18bac7cd1476",
   "metadata": {},
   "source": [
    "#### Using K-means to group this data with four groups "
   ]
  },
  {
   "cell_type": "markdown",
   "id": "eb0cf66a-a15d-41a7-9cfa-8125c22e8b41",
   "metadata": {},
   "source": [
    "First lets check how many groups does the elbow method suggests "
   ]
  },
  {
   "cell_type": "code",
   "execution_count": 25,
   "id": "8d9b2cfb-85b0-4060-884b-7a3a3b2e3717",
   "metadata": {},
   "outputs": [
    {
     "name": "stderr",
     "output_type": "stream",
     "text": [
      "C:\\ProgramData\\anaconda3\\Lib\\site-packages\\joblib\\externals\\loky\\backend\\context.py:136: UserWarning: Could not find the number of physical cores for the following reason:\n",
      "[WinError 2] The system cannot find the file specified\n",
      "Returning the number of logical cores instead. You can silence this warning by setting LOKY_MAX_CPU_COUNT to the number of cores you want to use.\n",
      "  warnings.warn(\n",
      "  File \"C:\\ProgramData\\anaconda3\\Lib\\site-packages\\joblib\\externals\\loky\\backend\\context.py\", line 257, in _count_physical_cores\n",
      "    cpu_info = subprocess.run(\n",
      "               ^^^^^^^^^^^^^^^\n",
      "  File \"C:\\ProgramData\\anaconda3\\Lib\\subprocess.py\", line 548, in run\n",
      "    with Popen(*popenargs, **kwargs) as process:\n",
      "         ^^^^^^^^^^^^^^^^^^^^^^^^^^^\n",
      "  File \"C:\\ProgramData\\anaconda3\\Lib\\subprocess.py\", line 1026, in __init__\n",
      "    self._execute_child(args, executable, preexec_fn, close_fds,\n",
      "  File \"C:\\ProgramData\\anaconda3\\Lib\\subprocess.py\", line 1538, in _execute_child\n",
      "    hp, ht, pid, tid = _winapi.CreateProcess(executable, args,\n",
      "                       ^^^^^^^^^^^^^^^^^^^^^^^^^^^^^^^^^^^^^^^\n",
      "C:\\ProgramData\\anaconda3\\Lib\\site-packages\\sklearn\\cluster\\_kmeans.py:1429: UserWarning: KMeans is known to have a memory leak on Windows with MKL, when there are less chunks than available threads. You can avoid it by setting the environment variable OMP_NUM_THREADS=1.\n",
      "  warnings.warn(\n",
      "C:\\ProgramData\\anaconda3\\Lib\\site-packages\\sklearn\\cluster\\_kmeans.py:1429: UserWarning: KMeans is known to have a memory leak on Windows with MKL, when there are less chunks than available threads. You can avoid it by setting the environment variable OMP_NUM_THREADS=1.\n",
      "  warnings.warn(\n",
      "C:\\ProgramData\\anaconda3\\Lib\\site-packages\\sklearn\\cluster\\_kmeans.py:1429: UserWarning: KMeans is known to have a memory leak on Windows with MKL, when there are less chunks than available threads. You can avoid it by setting the environment variable OMP_NUM_THREADS=1.\n",
      "  warnings.warn(\n",
      "C:\\ProgramData\\anaconda3\\Lib\\site-packages\\sklearn\\cluster\\_kmeans.py:1429: UserWarning: KMeans is known to have a memory leak on Windows with MKL, when there are less chunks than available threads. You can avoid it by setting the environment variable OMP_NUM_THREADS=1.\n",
      "  warnings.warn(\n",
      "C:\\ProgramData\\anaconda3\\Lib\\site-packages\\sklearn\\cluster\\_kmeans.py:1429: UserWarning: KMeans is known to have a memory leak on Windows with MKL, when there are less chunks than available threads. You can avoid it by setting the environment variable OMP_NUM_THREADS=1.\n",
      "  warnings.warn(\n",
      "C:\\ProgramData\\anaconda3\\Lib\\site-packages\\sklearn\\cluster\\_kmeans.py:1429: UserWarning: KMeans is known to have a memory leak on Windows with MKL, when there are less chunks than available threads. You can avoid it by setting the environment variable OMP_NUM_THREADS=1.\n",
      "  warnings.warn(\n",
      "C:\\ProgramData\\anaconda3\\Lib\\site-packages\\sklearn\\cluster\\_kmeans.py:1429: UserWarning: KMeans is known to have a memory leak on Windows with MKL, when there are less chunks than available threads. You can avoid it by setting the environment variable OMP_NUM_THREADS=1.\n",
      "  warnings.warn(\n",
      "C:\\ProgramData\\anaconda3\\Lib\\site-packages\\sklearn\\cluster\\_kmeans.py:1429: UserWarning: KMeans is known to have a memory leak on Windows with MKL, when there are less chunks than available threads. You can avoid it by setting the environment variable OMP_NUM_THREADS=1.\n",
      "  warnings.warn(\n",
      "C:\\ProgramData\\anaconda3\\Lib\\site-packages\\sklearn\\cluster\\_kmeans.py:1429: UserWarning: KMeans is known to have a memory leak on Windows with MKL, when there are less chunks than available threads. You can avoid it by setting the environment variable OMP_NUM_THREADS=1.\n",
      "  warnings.warn(\n"
     ]
    },
    {
     "data": {
      "image/png": "[encoded data removed]",
      "text/plain": [
       "<Figure size 640x480 with 1 Axes>"
      ]
     },
     "metadata": {},
     "output_type": "display_data"
    }
   ],
   "source": [
    "inertia = []\n",
    "K_range = range(1, 10)\n",
    "\n",
    "for k in K_range:\n",
    "    kmeans = KMeans(n_clusters=k, random_state=42, n_init=10)\n",
    "    kmeans.fit(df_pca)\n",
    "    inertia.append(kmeans.inertia_)\n",
    "\n",
    "plt.plot(K_range, inertia, marker='o')\n",
    "plt.xlabel('Number of Clusters (k)')\n",
    "plt.ylabel('Inertia')\n",
    "plt.title('Elbow Method for Optimal k')\n",
    "plt.show()"
   ]
  },
  {
   "cell_type": "markdown",
   "id": "9111eee7-56ec-4a98-9ef1-d638d495d039",
   "metadata": {},
   "source": [
    "We can see that may be three groups is enough for this data set but as the assessment requires we will do with 4 groups "
   ]
  },
  {
   "cell_type": "code",
   "execution_count": 26,
   "id": "bc636eff-03f1-4e11-a745-d34d77b75692",
   "metadata": {},
   "outputs": [
    {
     "name": "stdout",
     "output_type": "stream",
     "text": [
      "Cluster\n",
      "0    20\n",
      "3     5\n",
      "1     3\n",
      "2     2\n",
      "Name: count, dtype: int64\n"
     ]
    },
    {
     "name": "stderr",
     "output_type": "stream",
     "text": [
      "C:\\ProgramData\\anaconda3\\Lib\\site-packages\\sklearn\\cluster\\_kmeans.py:1429: UserWarning: KMeans is known to have a memory leak on Windows with MKL, when there are less chunks than available threads. You can avoid it by setting the environment variable OMP_NUM_THREADS=1.\n",
      "  warnings.warn(\n"
     ]
    },
    {
     "data": {
      "text/html": [
       "<div>\n",
       "<style scoped>\n",
       "    .dataframe tbody tr th:only-of-type {\n",
       "        vertical-align: middle;\n",
       "    }\n",
       "\n",
       "    .dataframe tbody tr th {\n",
       "        vertical-align: top;\n",
       "    }\n",
       "\n",
       "    .dataframe thead th {\n",
       "        text-align: right;\n",
       "    }\n",
       "</style>\n",
       "<table border=\"1\" class=\"dataframe\">\n",
       "  <thead>\n",
       "    <tr style=\"text-align: right;\">\n",
       "      <th></th>\n",
       "      <th>Crypto</th>\n",
       "      <th>Cluster</th>\n",
       "    </tr>\n",
       "  </thead>\n",
       "  <tbody>\n",
       "    <tr>\n",
       "      <th>0</th>\n",
       "      <td>AAVE-USD</td>\n",
       "      <td>1</td>\n",
       "    </tr>\n",
       "    <tr>\n",
       "      <th>1</th>\n",
       "      <td>ARB-USD</td>\n",
       "      <td>0</td>\n",
       "    </tr>\n",
       "    <tr>\n",
       "      <th>2</th>\n",
       "      <td>AXS-USD</td>\n",
       "      <td>0</td>\n",
       "    </tr>\n",
       "    <tr>\n",
       "      <th>3</th>\n",
       "      <td>CRO-USD</td>\n",
       "      <td>0</td>\n",
       "    </tr>\n",
       "    <tr>\n",
       "      <th>4</th>\n",
       "      <td>DAI-USD</td>\n",
       "      <td>0</td>\n",
       "    </tr>\n",
       "    <tr>\n",
       "      <th>5</th>\n",
       "      <td>DASH-USD</td>\n",
       "      <td>3</td>\n",
       "    </tr>\n",
       "    <tr>\n",
       "      <th>6</th>\n",
       "      <td>EGLD-USD</td>\n",
       "      <td>3</td>\n",
       "    </tr>\n",
       "    <tr>\n",
       "      <th>7</th>\n",
       "      <td>FET-USD</td>\n",
       "      <td>0</td>\n",
       "    </tr>\n",
       "    <tr>\n",
       "      <th>8</th>\n",
       "      <td>FIL-USD</td>\n",
       "      <td>0</td>\n",
       "    </tr>\n",
       "    <tr>\n",
       "      <th>9</th>\n",
       "      <td>FTT-USD</td>\n",
       "      <td>0</td>\n",
       "    </tr>\n",
       "    <tr>\n",
       "      <th>10</th>\n",
       "      <td>HT-USD</td>\n",
       "      <td>0</td>\n",
       "    </tr>\n",
       "    <tr>\n",
       "      <th>11</th>\n",
       "      <td>ILV-USD</td>\n",
       "      <td>2</td>\n",
       "    </tr>\n",
       "    <tr>\n",
       "      <th>12</th>\n",
       "      <td>INJ-USD</td>\n",
       "      <td>3</td>\n",
       "    </tr>\n",
       "    <tr>\n",
       "      <th>13</th>\n",
       "      <td>KAS-USD</td>\n",
       "      <td>0</td>\n",
       "    </tr>\n",
       "    <tr>\n",
       "      <th>14</th>\n",
       "      <td>KMD-USD</td>\n",
       "      <td>0</td>\n",
       "    </tr>\n",
       "    <tr>\n",
       "      <th>15</th>\n",
       "      <td>LTC-USD</td>\n",
       "      <td>2</td>\n",
       "    </tr>\n",
       "    <tr>\n",
       "      <th>16</th>\n",
       "      <td>MANA-USD</td>\n",
       "      <td>0</td>\n",
       "    </tr>\n",
       "    <tr>\n",
       "      <th>17</th>\n",
       "      <td>MATIC-USD</td>\n",
       "      <td>0</td>\n",
       "    </tr>\n",
       "    <tr>\n",
       "      <th>18</th>\n",
       "      <td>NEAR-USD</td>\n",
       "      <td>0</td>\n",
       "    </tr>\n",
       "    <tr>\n",
       "      <th>19</th>\n",
       "      <td>OKB-USD</td>\n",
       "      <td>3</td>\n",
       "    </tr>\n",
       "    <tr>\n",
       "      <th>20</th>\n",
       "      <td>OP-USD</td>\n",
       "      <td>0</td>\n",
       "    </tr>\n",
       "    <tr>\n",
       "      <th>21</th>\n",
       "      <td>SAND-USD</td>\n",
       "      <td>0</td>\n",
       "    </tr>\n",
       "    <tr>\n",
       "      <th>22</th>\n",
       "      <td>SCRT-USD</td>\n",
       "      <td>0</td>\n",
       "    </tr>\n",
       "    <tr>\n",
       "      <th>23</th>\n",
       "      <td>SNX-USD</td>\n",
       "      <td>0</td>\n",
       "    </tr>\n",
       "    <tr>\n",
       "      <th>24</th>\n",
       "      <td>SOL-USD</td>\n",
       "      <td>1</td>\n",
       "    </tr>\n",
       "    <tr>\n",
       "      <th>25</th>\n",
       "      <td>TRX-USD</td>\n",
       "      <td>0</td>\n",
       "    </tr>\n",
       "    <tr>\n",
       "      <th>26</th>\n",
       "      <td>UNI-USD</td>\n",
       "      <td>0</td>\n",
       "    </tr>\n",
       "    <tr>\n",
       "      <th>27</th>\n",
       "      <td>USDC-USD</td>\n",
       "      <td>0</td>\n",
       "    </tr>\n",
       "    <tr>\n",
       "      <th>28</th>\n",
       "      <td>XMR-USD</td>\n",
       "      <td>1</td>\n",
       "    </tr>\n",
       "    <tr>\n",
       "      <th>29</th>\n",
       "      <td>ZEC-USD</td>\n",
       "      <td>3</td>\n",
       "    </tr>\n",
       "  </tbody>\n",
       "</table>\n",
       "</div>"
      ],
      "text/plain": [
       "       Crypto  Cluster\n",
       "0    AAVE-USD        1\n",
       "1     ARB-USD        0\n",
       "2     AXS-USD        0\n",
       "3     CRO-USD        0\n",
       "4     DAI-USD        0\n",
       "5    DASH-USD        3\n",
       "6    EGLD-USD        3\n",
       "7     FET-USD        0\n",
       "8     FIL-USD        0\n",
       "9     FTT-USD        0\n",
       "10     HT-USD        0\n",
       "11    ILV-USD        2\n",
       "12    INJ-USD        3\n",
       "13    KAS-USD        0\n",
       "14    KMD-USD        0\n",
       "15    LTC-USD        2\n",
       "16   MANA-USD        0\n",
       "17  MATIC-USD        0\n",
       "18   NEAR-USD        0\n",
       "19    OKB-USD        3\n",
       "20     OP-USD        0\n",
       "21   SAND-USD        0\n",
       "22   SCRT-USD        0\n",
       "23    SNX-USD        0\n",
       "24    SOL-USD        1\n",
       "25    TRX-USD        0\n",
       "26    UNI-USD        0\n",
       "27   USDC-USD        0\n",
       "28    XMR-USD        1\n",
       "29    ZEC-USD        3"
      ]
     },
     "execution_count": 26,
     "metadata": {},
     "output_type": "execute_result"
    }
   ],
   "source": [
    "kmeans = KMeans(n_clusters=4, random_state=42, n_init=10)\n",
    "clusters = kmeans.fit_predict(df_pca)\n",
    "\n",
    "#Lets see the groups and how many crypto is in each group \n",
    "df_clusters = pd.DataFrame({'Crypto': df.index, 'Cluster': clusters})\n",
    "print (df_clusters.Cluster.value_counts())\n",
    "df_clusters"
   ]
  },
  {
   "cell_type": "markdown",
   "id": "fd812a59-cb15-4126-8668-e490c401a68b",
   "metadata": {},
   "source": [
    "Lets now visualize the data with groups "
   ]
  },
  {
   "cell_type": "code",
   "execution_count": 27,
   "id": "fb5b98d2-e854-4c72-82f4-7f8f2228d499",
   "metadata": {},
   "outputs": [
    {
     "data": {
      "image/png": "[encoded data removed]",
      "text/plain": [
       "<Figure size 1000x500 with 2 Axes>"
      ]
     },
     "metadata": {},
     "output_type": "display_data"
    }
   ],
   "source": [
    "plt.figure(figsize=(10, 5))\n",
    "plt.scatter(df_pca.iloc[:, 0], df_pca.iloc[:, 1],c=clusters, alpha=0.7)\n",
    "plt.title('K-Means Clustering of Cryptocurrencies')\n",
    "plt.xlabel('Feature 1 (PCA)')\n",
    "plt.ylabel('Feature 2 (PCA)')\n",
    "plt.colorbar(label='Cluster')\n",
    "plt.show()"
   ]
  }
 ],
 "metadata": {
  "kernelspec": {
   "display_name": "Python 3 (ipykernel)",
   "language": "python",
   "name": "python3"
  },
  "language_info": {
   "codemirror_mode": {
    "name": "ipython",
    "version": 3
   },
   "file_extension": ".py",
   "mimetype": "text/x-python",
   "name": "python",
   "nbconvert_exporter": "python",
   "pygments_lexer": "ipython3",
   "version": "3.12.7"
  }
 },
 "nbformat": 4,
 "nbformat_minor": 5
}
